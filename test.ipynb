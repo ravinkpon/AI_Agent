{
 "cells": [
  {
   "cell_type": "code",
   "execution_count": 54,
   "metadata": {},
   "outputs": [
    {
     "name": "stdout",
     "output_type": "stream",
     "text": [
      "Collecting langchain\n",
      "  Cloning https://github.com/unifyai/langchain.git to c:\\users\\ravin\\appdata\\local\\temp\\pip-install-6_mllcvt\\langchain_5baf587e48474c88a5884a3491085487\n",
      "  Resolved https://github.com/unifyai/langchain.git to commit d2cd99f238ff59e65cbba3132b062325b75b4524\n",
      "  Installing build dependencies: started\n",
      "  Installing build dependencies: finished with status 'done'\n",
      "  Getting requirements to build wheel: started\n",
      "  Getting requirements to build wheel: finished with status 'done'\n",
      "  Preparing metadata (pyproject.toml): started\n",
      "  Preparing metadata (pyproject.toml): finished with status 'done'\n",
      "Requirement already satisfied: aiohttp<4.0.0,>=3.8.3 in e:\\contribution\\venv\\ai_agent_venv\\lib\\site-packages (from langchain) (3.9.5)\n",
      "Collecting langchain-text-splitters<0.3.0,>=0.2.0\n",
      "  Using cached langchain_text_splitters-0.2.0-py3-none-any.whl (23 kB)\n",
      "Collecting langchain-core<0.3.0,>=0.2.0\n",
      "  Using cached langchain_core-0.2.1-py3-none-any.whl (308 kB)\n",
      "Requirement already satisfied: requests<3,>=2 in e:\\contribution\\venv\\ai_agent_venv\\lib\\site-packages (from langchain) (2.31.0)\n",
      "Collecting langsmith<0.2.0,>=0.1.17\n",
      "  Using cached langsmith-0.1.63-py3-none-any.whl (122 kB)\n",
      "Requirement already satisfied: SQLAlchemy<3,>=1.4 in e:\\contribution\\venv\\ai_agent_venv\\lib\\site-packages (from langchain) (2.0.29)\n",
      "Requirement already satisfied: pydantic<3,>=1 in e:\\contribution\\venv\\ai_agent_venv\\lib\\site-packages (from langchain) (2.7.1)\n",
      "Requirement already satisfied: dataclasses-json<0.7,>=0.5.7 in e:\\contribution\\venv\\ai_agent_venv\\lib\\site-packages (from langchain) (0.6.5)\n",
      "Requirement already satisfied: PyYAML>=5.3 in e:\\contribution\\venv\\ai_agent_venv\\lib\\site-packages (from langchain) (6.0.1)\n",
      "Requirement already satisfied: numpy<2,>=1 in e:\\contribution\\venv\\ai_agent_venv\\lib\\site-packages (from langchain) (1.26.4)\n",
      "Requirement already satisfied: async-timeout<5.0.0,>=4.0.0 in e:\\contribution\\venv\\ai_agent_venv\\lib\\site-packages (from langchain) (4.0.3)\n",
      "Requirement already satisfied: tenacity<9.0.0,>=8.1.0 in e:\\contribution\\venv\\ai_agent_venv\\lib\\site-packages (from langchain) (8.2.3)\n",
      "Requirement already satisfied: attrs>=17.3.0 in e:\\contribution\\venv\\ai_agent_venv\\lib\\site-packages (from aiohttp<4.0.0,>=3.8.3->langchain) (23.2.0)\n",
      "Requirement already satisfied: multidict<7.0,>=4.5 in e:\\contribution\\venv\\ai_agent_venv\\lib\\site-packages (from aiohttp<4.0.0,>=3.8.3->langchain) (6.0.5)\n",
      "Requirement already satisfied: yarl<2.0,>=1.0 in e:\\contribution\\venv\\ai_agent_venv\\lib\\site-packages (from aiohttp<4.0.0,>=3.8.3->langchain) (1.9.4)\n",
      "Requirement already satisfied: frozenlist>=1.1.1 in e:\\contribution\\venv\\ai_agent_venv\\lib\\site-packages (from aiohttp<4.0.0,>=3.8.3->langchain) (1.4.1)\n",
      "Requirement already satisfied: aiosignal>=1.1.2 in e:\\contribution\\venv\\ai_agent_venv\\lib\\site-packages (from aiohttp<4.0.0,>=3.8.3->langchain) (1.3.1)\n",
      "Requirement already satisfied: marshmallow<4.0.0,>=3.18.0 in e:\\contribution\\venv\\ai_agent_venv\\lib\\site-packages (from dataclasses-json<0.7,>=0.5.7->langchain) (3.21.1)\n",
      "Requirement already satisfied: typing-inspect<1,>=0.4.0 in e:\\contribution\\venv\\ai_agent_venv\\lib\\site-packages (from dataclasses-json<0.7,>=0.5.7->langchain) (0.9.0)\n",
      "Requirement already satisfied: packaging<24.0,>=23.2 in e:\\contribution\\venv\\ai_agent_venv\\lib\\site-packages (from langchain-core<0.3.0,>=0.2.0->langchain) (23.2)\n",
      "Requirement already satisfied: jsonpatch<2.0,>=1.33 in e:\\contribution\\venv\\ai_agent_venv\\lib\\site-packages (from langchain-core<0.3.0,>=0.2.0->langchain) (1.33)\n",
      "Requirement already satisfied: orjson<4.0.0,>=3.9.14 in e:\\contribution\\venv\\ai_agent_venv\\lib\\site-packages (from langsmith<0.2.0,>=0.1.17->langchain) (3.10.3)\n",
      "Requirement already satisfied: pydantic-core==2.18.2 in e:\\contribution\\venv\\ai_agent_venv\\lib\\site-packages (from pydantic<3,>=1->langchain) (2.18.2)\n",
      "Requirement already satisfied: typing-extensions>=4.6.1 in e:\\contribution\\venv\\ai_agent_venv\\lib\\site-packages (from pydantic<3,>=1->langchain) (4.11.0)\n",
      "Requirement already satisfied: annotated-types>=0.4.0 in e:\\contribution\\venv\\ai_agent_venv\\lib\\site-packages (from pydantic<3,>=1->langchain) (0.6.0)\n",
      "Requirement already satisfied: certifi>=2017.4.17 in e:\\contribution\\venv\\ai_agent_venv\\lib\\site-packages (from requests<3,>=2->langchain) (2024.2.2)\n",
      "Requirement already satisfied: charset-normalizer<4,>=2 in e:\\contribution\\venv\\ai_agent_venv\\lib\\site-packages (from requests<3,>=2->langchain) (3.3.2)\n",
      "Requirement already satisfied: urllib3<3,>=1.21.1 in e:\\contribution\\venv\\ai_agent_venv\\lib\\site-packages (from requests<3,>=2->langchain) (2.2.1)\n",
      "Requirement already satisfied: idna<4,>=2.5 in e:\\contribution\\venv\\ai_agent_venv\\lib\\site-packages (from requests<3,>=2->langchain) (3.7)\n",
      "Requirement already satisfied: greenlet!=0.4.17 in e:\\contribution\\venv\\ai_agent_venv\\lib\\site-packages (from SQLAlchemy<3,>=1.4->langchain) (3.0.3)\n",
      "Requirement already satisfied: jsonpointer>=1.9 in e:\\contribution\\venv\\ai_agent_venv\\lib\\site-packages (from jsonpatch<2.0,>=1.33->langchain-core<0.3.0,>=0.2.0->langchain) (2.4)\n",
      "Requirement already satisfied: mypy-extensions>=0.3.0 in e:\\contribution\\venv\\ai_agent_venv\\lib\\site-packages (from typing-inspect<1,>=0.4.0->dataclasses-json<0.7,>=0.5.7->langchain) (1.0.0)\n",
      "Building wheels for collected packages: langchain\n",
      "  Building wheel for langchain (pyproject.toml): started\n",
      "  Building wheel for langchain (pyproject.toml): finished with status 'done'\n",
      "  Created wheel for langchain: filename=langchain-0.2.0-py3-none-any.whl size=973786 sha256=43a76aa5dbee22f37a5778280302bb6ada0895ec72dccd2d3453230cf128ae39\n",
      "  Stored in directory: C:\\Users\\ravin\\AppData\\Local\\Temp\\pip-ephem-wheel-cache-hz705hxx\\wheels\\c0\\49\\71\\58f878ae53c2fffd8349403c61461635e5d8f8ee5eb8655e95\n",
      "Successfully built langchain\n",
      "Installing collected packages: langsmith, langchain-core, langchain-text-splitters, langchain\n",
      "Successfully installed langchain-0.2.0 langchain-core-0.2.1 langchain-text-splitters-0.2.0 langsmith-0.1.63\n"
     ]
    },
    {
     "name": "stderr",
     "output_type": "stream",
     "text": [
      "  Running command git clone --filter=blob:none --quiet https://github.com/unifyai/langchain.git 'C:\\Users\\ravin\\AppData\\Local\\Temp\\pip-install-6_mllcvt\\langchain_5baf587e48474c88a5884a3491085487'\n",
      "\n",
      "[notice] A new release of pip available: 22.3.1 -> 24.0\n",
      "[notice] To update, run: python.exe -m pip install --upgrade pip\n"
     ]
    }
   ],
   "source": [
    "!pip install \"git+https://github.com/unifyai/langchain.git#egg=langchain&subdirectory=libs/langchain\"\n"
   ]
  },
  {
   "cell_type": "code",
   "execution_count": 3,
   "metadata": {},
   "outputs": [
    {
     "name": "stdout",
     "output_type": "stream",
     "text": [
      "Collecting langchain-unify\n",
      "  Cloning https://github.com/unifyai/langchain.git to c:\\users\\ravin\\appdata\\local\\temp\\pip-install-8doyegeo\\langchain-unify_82392598ce864925a8959ee4c5510fe3\n",
      "  Resolved https://github.com/unifyai/langchain.git to commit d2cd99f238ff59e65cbba3132b062325b75b4524\n",
      "  Installing build dependencies: started\n",
      "  Installing build dependencies: finished with status 'done'\n",
      "  Getting requirements to build wheel: started\n",
      "  Getting requirements to build wheel: finished with status 'done'\n",
      "  Preparing metadata (pyproject.toml): started\n",
      "  Preparing metadata (pyproject.toml): finished with status 'done'\n",
      "Requirement already satisfied: langchain-core>=0.0.12 in e:\\contribution\\venv\\ai_agent_venv\\lib\\site-packages (from langchain-unify) (0.2.1)\n",
      "Requirement already satisfied: httpx<0.28.0,>=0.27.0 in e:\\contribution\\venv\\ai_agent_venv\\lib\\site-packages (from langchain-unify) (0.27.0)\n",
      "Requirement already satisfied: ruff<0.4.0,>=0.3.2 in e:\\contribution\\venv\\ai_agent_venv\\lib\\site-packages (from langchain-unify) (0.3.7)\n",
      "Requirement already satisfied: codespell<3.0.0,>=2.2.6 in e:\\contribution\\venv\\ai_agent_venv\\lib\\site-packages (from langchain-unify) (2.2.6)\n",
      "Requirement already satisfied: sniffio in e:\\contribution\\venv\\ai_agent_venv\\lib\\site-packages (from httpx<0.28.0,>=0.27.0->langchain-unify) (1.3.1)\n",
      "Requirement already satisfied: httpcore==1.* in e:\\contribution\\venv\\ai_agent_venv\\lib\\site-packages (from httpx<0.28.0,>=0.27.0->langchain-unify) (1.0.5)\n",
      "Requirement already satisfied: anyio in e:\\contribution\\venv\\ai_agent_venv\\lib\\site-packages (from httpx<0.28.0,>=0.27.0->langchain-unify) (4.3.0)\n",
      "Requirement already satisfied: certifi in e:\\contribution\\venv\\ai_agent_venv\\lib\\site-packages (from httpx<0.28.0,>=0.27.0->langchain-unify) (2024.2.2)\n",
      "Requirement already satisfied: idna in e:\\contribution\\venv\\ai_agent_venv\\lib\\site-packages (from httpx<0.28.0,>=0.27.0->langchain-unify) (3.7)\n",
      "Requirement already satisfied: h11<0.15,>=0.13 in e:\\contribution\\venv\\ai_agent_venv\\lib\\site-packages (from httpcore==1.*->httpx<0.28.0,>=0.27.0->langchain-unify) (0.14.0)\n",
      "Requirement already satisfied: langsmith<0.2.0,>=0.1.0 in e:\\contribution\\venv\\ai_agent_venv\\lib\\site-packages (from langchain-core>=0.0.12->langchain-unify) (0.1.63)\n",
      "Requirement already satisfied: tenacity<9.0.0,>=8.1.0 in e:\\contribution\\venv\\ai_agent_venv\\lib\\site-packages (from langchain-core>=0.0.12->langchain-unify) (8.2.3)\n",
      "Requirement already satisfied: pydantic<3,>=1 in e:\\contribution\\venv\\ai_agent_venv\\lib\\site-packages (from langchain-core>=0.0.12->langchain-unify) (2.7.1)\n",
      "Requirement already satisfied: packaging<24.0,>=23.2 in e:\\contribution\\venv\\ai_agent_venv\\lib\\site-packages (from langchain-core>=0.0.12->langchain-unify) (23.2)\n",
      "Requirement already satisfied: jsonpatch<2.0,>=1.33 in e:\\contribution\\venv\\ai_agent_venv\\lib\\site-packages (from langchain-core>=0.0.12->langchain-unify) (1.33)\n",
      "Requirement already satisfied: PyYAML>=5.3 in e:\\contribution\\venv\\ai_agent_venv\\lib\\site-packages (from langchain-core>=0.0.12->langchain-unify) (6.0.1)\n",
      "Requirement already satisfied: jsonpointer>=1.9 in e:\\contribution\\venv\\ai_agent_venv\\lib\\site-packages (from jsonpatch<2.0,>=1.33->langchain-core>=0.0.12->langchain-unify) (2.4)\n",
      "Requirement already satisfied: requests<3,>=2 in e:\\contribution\\venv\\ai_agent_venv\\lib\\site-packages (from langsmith<0.2.0,>=0.1.0->langchain-core>=0.0.12->langchain-unify) (2.31.0)\n",
      "Requirement already satisfied: orjson<4.0.0,>=3.9.14 in e:\\contribution\\venv\\ai_agent_venv\\lib\\site-packages (from langsmith<0.2.0,>=0.1.0->langchain-core>=0.0.12->langchain-unify) (3.10.3)\n",
      "Requirement already satisfied: pydantic-core==2.18.2 in e:\\contribution\\venv\\ai_agent_venv\\lib\\site-packages (from pydantic<3,>=1->langchain-core>=0.0.12->langchain-unify) (2.18.2)\n",
      "Requirement already satisfied: annotated-types>=0.4.0 in e:\\contribution\\venv\\ai_agent_venv\\lib\\site-packages (from pydantic<3,>=1->langchain-core>=0.0.12->langchain-unify) (0.6.0)\n",
      "Requirement already satisfied: typing-extensions>=4.6.1 in e:\\contribution\\venv\\ai_agent_venv\\lib\\site-packages (from pydantic<3,>=1->langchain-core>=0.0.12->langchain-unify) (4.11.0)\n",
      "Requirement already satisfied: exceptiongroup>=1.0.2 in e:\\contribution\\venv\\ai_agent_venv\\lib\\site-packages (from anyio->httpx<0.28.0,>=0.27.0->langchain-unify) (1.2.1)\n",
      "Requirement already satisfied: charset-normalizer<4,>=2 in e:\\contribution\\venv\\ai_agent_venv\\lib\\site-packages (from requests<3,>=2->langsmith<0.2.0,>=0.1.0->langchain-core>=0.0.12->langchain-unify) (3.3.2)\n",
      "Requirement already satisfied: urllib3<3,>=1.21.1 in e:\\contribution\\venv\\ai_agent_venv\\lib\\site-packages (from requests<3,>=2->langsmith<0.2.0,>=0.1.0->langchain-core>=0.0.12->langchain-unify) (2.2.1)\n"
     ]
    },
    {
     "name": "stderr",
     "output_type": "stream",
     "text": [
      "  Running command git clone --filter=blob:none --quiet https://github.com/unifyai/langchain.git 'C:\\Users\\ravin\\AppData\\Local\\Temp\\pip-install-8doyegeo\\langchain-unify_82392598ce864925a8959ee4c5510fe3'\n",
      "\n",
      "[notice] A new release of pip available: 22.3.1 -> 24.0\n",
      "[notice] To update, run: python.exe -m pip install --upgrade pip\n"
     ]
    }
   ],
   "source": [
    "# install unify ai langchain\n",
    "!pip install \"git+https://github.com/unifyai/langchain.git#egg=langchain-unify&subdirectory=libs/partners/unify\""
   ]
  },
  {
   "cell_type": "code",
   "execution_count": null,
   "metadata": {},
   "outputs": [],
   "source": [
    "# fill in the api keys\n",
    "unifyapikey= None\n",
    "wolframapikey=None\n",
    "opwapikey=None"
   ]
  },
  {
   "cell_type": "code",
   "execution_count": 3,
   "metadata": {},
   "outputs": [
    {
     "data": {
      "text/plain": [
       "AIMessage(content='The capital of France is Paris.', response_metadata={'usage': {'completion_tokens': 7, 'prompt_tokens': 18, 'total_tokens': 25, 'cost': 2.4099999999999996e-05}, 'model': 'llama-2-70b-chat@lowest-input-cost', 'finish_reason': 'stop'}, id='run-a8abd911-45af-460b-a55b-2704fdbf9703-0')"
      ]
     },
     "execution_count": 3,
     "metadata": {},
     "output_type": "execute_result"
    }
   ],
   "source": [
    "from langchain_unify.chat_models import ChatUnify\n",
    "\n",
    "llm = ChatUnify(endpoint=\"gpt-3.5@openai\",\n",
    "                unify_api_key=unifyapikey, streaming=True)\n",
    "\n",
    "llm.invoke(\"What is the capital of France?\")"
   ]
  },
  {
   "cell_type": "code",
   "execution_count": null,
   "metadata": {},
   "outputs": [],
   "source": [
    "from langchain.memory import ConversationBufferMemory"
   ]
  },
  {
   "cell_type": "code",
   "execution_count": null,
   "metadata": {},
   "outputs": [],
   "source": [
    "memory = ConversationBufferMemory(\n",
    "     return_messages=True, memory_key=\"chat_history\", output_key=\"output\"\n",
    ")"
   ]
  },
  {
   "cell_type": "code",
   "execution_count": 21,
   "metadata": {},
   "outputs": [
    {
     "name": "stderr",
     "output_type": "stream",
     "text": [
      "e:\\contribution\\venv\\ai_agent_venv\\lib\\site-packages\\langchain_core\\_api\\deprecation.py:119: LangChainDeprecationWarning: The class `ConversationalChatAgent` was deprecated in LangChain 0.1.0 and will be removed in 0.2.0. Use create_json_chat_agent instead.\n",
      "  warn_deprecated(\n"
     ]
    },
    {
     "ename": "KeyError",
     "evalue": "'llm_chain'",
     "output_type": "error",
     "traceback": [
      "\u001b[1;31m---------------------------------------------------------------------------\u001b[0m",
      "\u001b[1;31mKeyError\u001b[0m                                  Traceback (most recent call last)",
      "Cell \u001b[1;32mIn[21], line 19\u001b[0m\n\u001b[0;32m     14\u001b[0m \u001b[38;5;66;03m# tools = [ddg_search]\u001b[39;00m\n\u001b[0;32m     15\u001b[0m memory \u001b[38;5;241m=\u001b[39m ConversationBufferMemory()\n\u001b[1;32m---> 19\u001b[0m agent \u001b[38;5;241m=\u001b[39m \u001b[43mConversationalChatAgent\u001b[49m\u001b[43m(\u001b[49m\n\u001b[0;32m     20\u001b[0m \u001b[43m    \u001b[49m\u001b[43mtools\u001b[49m\u001b[38;5;241;43m=\u001b[39;49m\u001b[43m[\u001b[49m\u001b[43mddg_search\u001b[49m\u001b[43m]\u001b[49m\u001b[43m,\u001b[49m\n\u001b[0;32m     21\u001b[0m \u001b[43m    \u001b[49m\u001b[38;5;66;43;03m# agent='chat-conversational-react-description',\u001b[39;49;00m\n\u001b[0;32m     22\u001b[0m \u001b[43m    \u001b[49m\u001b[43magent_type\u001b[49m\u001b[38;5;241;43m=\u001b[39;49m\u001b[43mAgentType\u001b[49m\u001b[38;5;241;43m.\u001b[39;49m\u001b[43mZERO_SHOT_REACT_DESCRIPTION\u001b[49m\u001b[43m,\u001b[49m\n\u001b[0;32m     23\u001b[0m \u001b[43m    \u001b[49m\u001b[43mllm\u001b[49m\u001b[38;5;241;43m=\u001b[39;49m\u001b[43mllm\u001b[49m\u001b[43m,\u001b[49m\n\u001b[0;32m     24\u001b[0m \u001b[43m    \u001b[49m\u001b[38;5;66;43;03m#memory=memory,\u001b[39;49;00m\n\u001b[0;32m     25\u001b[0m \u001b[43m    \u001b[49m\u001b[43mverbose\u001b[49m\u001b[38;5;241;43m=\u001b[39;49m\u001b[38;5;28;43;01mTrue\u001b[39;49;00m\u001b[43m,\u001b[49m\n\u001b[0;32m     26\u001b[0m \u001b[43m    \u001b[49m\u001b[43mmax_iterations\u001b[49m\u001b[38;5;241;43m=\u001b[39;49m\u001b[38;5;241;43m3\u001b[39;49m\u001b[43m,\u001b[49m\n\u001b[0;32m     27\u001b[0m \u001b[43m    \u001b[49m\u001b[43mmax_execution_time\u001b[49m\u001b[38;5;241;43m=\u001b[39;49m\u001b[38;5;241;43m10\u001b[39;49m\u001b[43m,\u001b[49m\n\u001b[0;32m     28\u001b[0m \u001b[43m    \u001b[49m\u001b[38;5;66;43;03m# return_intermediate_steps=True,\u001b[39;49;00m\n\u001b[0;32m     29\u001b[0m \u001b[43m    \u001b[49m\u001b[43mhandle_parsing_errors\u001b[49m\u001b[38;5;241;43m=\u001b[39;49m\u001b[38;5;28;43;01mTrue\u001b[39;49;00m\u001b[43m,\u001b[49m\n\u001b[0;32m     30\u001b[0m \u001b[43m    \u001b[49m\u001b[43mearly_stopping_method\u001b[49m\u001b[38;5;241;43m=\u001b[39;49m\u001b[38;5;124;43m'\u001b[39;49m\u001b[38;5;124;43mgenerate\u001b[39;49m\u001b[38;5;124;43m'\u001b[39;49m\u001b[43m,\u001b[49m\n\u001b[0;32m     31\u001b[0m \u001b[43m)\u001b[49m\n\u001b[0;32m     34\u001b[0m \u001b[38;5;66;03m#print(agent.invoke(\"whats the name of the president in united states?\",memory=memory))\u001b[39;00m\n\u001b[0;32m     35\u001b[0m \u001b[38;5;66;03m# print(agent.invoke(\"what is the capital\",memory=memory))\u001b[39;00m\n\u001b[0;32m     36\u001b[0m \n\u001b[1;32m   (...)\u001b[0m\n\u001b[0;32m     61\u001b[0m \u001b[38;5;66;03m# # Start the chat session\u001b[39;00m\n\u001b[0;32m     62\u001b[0m \u001b[38;5;66;03m# chat()\u001b[39;00m\n",
      "File \u001b[1;32me:\\contribution\\venv\\ai_agent_venv\\lib\\site-packages\\langchain_core\\_api\\deprecation.py:183\u001b[0m, in \u001b[0;36mdeprecated.<locals>.deprecate.<locals>.finalize.<locals>.warn_if_direct_instance\u001b[1;34m(self, *args, **kwargs)\u001b[0m\n\u001b[0;32m    181\u001b[0m     warned \u001b[38;5;241m=\u001b[39m \u001b[38;5;28;01mTrue\u001b[39;00m\n\u001b[0;32m    182\u001b[0m     emit_warning()\n\u001b[1;32m--> 183\u001b[0m \u001b[38;5;28;01mreturn\u001b[39;00m wrapped(\u001b[38;5;28mself\u001b[39m, \u001b[38;5;241m*\u001b[39margs, \u001b[38;5;241m*\u001b[39m\u001b[38;5;241m*\u001b[39mkwargs)\n",
      "File \u001b[1;32me:\\contribution\\venv\\ai_agent_venv\\lib\\site-packages\\langchain_core\\_api\\deprecation.py:183\u001b[0m, in \u001b[0;36mdeprecated.<locals>.deprecate.<locals>.finalize.<locals>.warn_if_direct_instance\u001b[1;34m(self, *args, **kwargs)\u001b[0m\n\u001b[0;32m    181\u001b[0m     warned \u001b[38;5;241m=\u001b[39m \u001b[38;5;28;01mTrue\u001b[39;00m\n\u001b[0;32m    182\u001b[0m     emit_warning()\n\u001b[1;32m--> 183\u001b[0m \u001b[38;5;28;01mreturn\u001b[39;00m wrapped(\u001b[38;5;28mself\u001b[39m, \u001b[38;5;241m*\u001b[39margs, \u001b[38;5;241m*\u001b[39m\u001b[38;5;241m*\u001b[39mkwargs)\n",
      "File \u001b[1;32me:\\contribution\\venv\\ai_agent_venv\\lib\\site-packages\\pydantic\\v1\\main.py:339\u001b[0m, in \u001b[0;36mBaseModel.__init__\u001b[1;34m(__pydantic_self__, **data)\u001b[0m\n\u001b[0;32m    333\u001b[0m \u001b[38;5;250m\u001b[39m\u001b[38;5;124;03m\"\"\"\u001b[39;00m\n\u001b[0;32m    334\u001b[0m \u001b[38;5;124;03mCreate a new model by parsing and validating input data from keyword arguments.\u001b[39;00m\n\u001b[0;32m    335\u001b[0m \n\u001b[0;32m    336\u001b[0m \u001b[38;5;124;03mRaises ValidationError if the input data cannot be parsed to form a valid model.\u001b[39;00m\n\u001b[0;32m    337\u001b[0m \u001b[38;5;124;03m\"\"\"\u001b[39;00m\n\u001b[0;32m    338\u001b[0m \u001b[38;5;66;03m# Uses something other than `self` the first arg to allow \"self\" as a settable attribute\u001b[39;00m\n\u001b[1;32m--> 339\u001b[0m values, fields_set, validation_error \u001b[38;5;241m=\u001b[39m \u001b[43mvalidate_model\u001b[49m\u001b[43m(\u001b[49m\u001b[43m__pydantic_self__\u001b[49m\u001b[38;5;241;43m.\u001b[39;49m\u001b[38;5;18;43m__class__\u001b[39;49m\u001b[43m,\u001b[49m\u001b[43m \u001b[49m\u001b[43mdata\u001b[49m\u001b[43m)\u001b[49m\n\u001b[0;32m    340\u001b[0m \u001b[38;5;28;01mif\u001b[39;00m validation_error:\n\u001b[0;32m    341\u001b[0m     \u001b[38;5;28;01mraise\u001b[39;00m validation_error\n",
      "File \u001b[1;32me:\\contribution\\venv\\ai_agent_venv\\lib\\site-packages\\pydantic\\v1\\main.py:1100\u001b[0m, in \u001b[0;36mvalidate_model\u001b[1;34m(model, input_data, cls)\u001b[0m\n\u001b[0;32m   1098\u001b[0m     \u001b[38;5;28;01mcontinue\u001b[39;00m\n\u001b[0;32m   1099\u001b[0m \u001b[38;5;28;01mtry\u001b[39;00m:\n\u001b[1;32m-> 1100\u001b[0m     values \u001b[38;5;241m=\u001b[39m \u001b[43mvalidator\u001b[49m\u001b[43m(\u001b[49m\u001b[43mcls_\u001b[49m\u001b[43m,\u001b[49m\u001b[43m \u001b[49m\u001b[43mvalues\u001b[49m\u001b[43m)\u001b[49m\n\u001b[0;32m   1101\u001b[0m \u001b[38;5;28;01mexcept\u001b[39;00m (\u001b[38;5;167;01mValueError\u001b[39;00m, \u001b[38;5;167;01mTypeError\u001b[39;00m, \u001b[38;5;167;01mAssertionError\u001b[39;00m) \u001b[38;5;28;01mas\u001b[39;00m exc:\n\u001b[0;32m   1102\u001b[0m     errors\u001b[38;5;241m.\u001b[39mappend(ErrorWrapper(exc, loc\u001b[38;5;241m=\u001b[39mROOT_KEY))\n",
      "File \u001b[1;32me:\\contribution\\venv\\ai_agent_venv\\lib\\site-packages\\langchain\\agents\\agent.py:775\u001b[0m, in \u001b[0;36mAgent.validate_prompt\u001b[1;34m(cls, values)\u001b[0m\n\u001b[0;32m    772\u001b[0m \u001b[38;5;129m@root_validator\u001b[39m()\n\u001b[0;32m    773\u001b[0m \u001b[38;5;28;01mdef\u001b[39;00m \u001b[38;5;21mvalidate_prompt\u001b[39m(\u001b[38;5;28mcls\u001b[39m, values: Dict) \u001b[38;5;241m-\u001b[39m\u001b[38;5;241m>\u001b[39m Dict:\n\u001b[0;32m    774\u001b[0m \u001b[38;5;250m    \u001b[39m\u001b[38;5;124;03m\"\"\"Validate that prompt matches format.\"\"\"\u001b[39;00m\n\u001b[1;32m--> 775\u001b[0m     prompt \u001b[38;5;241m=\u001b[39m \u001b[43mvalues\u001b[49m\u001b[43m[\u001b[49m\u001b[38;5;124;43m\"\u001b[39;49m\u001b[38;5;124;43mllm_chain\u001b[39;49m\u001b[38;5;124;43m\"\u001b[39;49m\u001b[43m]\u001b[49m\u001b[38;5;241m.\u001b[39mprompt\n\u001b[0;32m    776\u001b[0m     \u001b[38;5;28;01mif\u001b[39;00m \u001b[38;5;124m\"\u001b[39m\u001b[38;5;124magent_scratchpad\u001b[39m\u001b[38;5;124m\"\u001b[39m \u001b[38;5;129;01mnot\u001b[39;00m \u001b[38;5;129;01min\u001b[39;00m prompt\u001b[38;5;241m.\u001b[39minput_variables:\n\u001b[0;32m    777\u001b[0m         logger\u001b[38;5;241m.\u001b[39mwarning(\n\u001b[0;32m    778\u001b[0m             \u001b[38;5;124m\"\u001b[39m\u001b[38;5;124m`agent_scratchpad` should be a variable in prompt.input_variables.\u001b[39m\u001b[38;5;124m\"\u001b[39m\n\u001b[0;32m    779\u001b[0m             \u001b[38;5;124m\"\u001b[39m\u001b[38;5;124m Did not find it, so adding it at the end.\u001b[39m\u001b[38;5;124m\"\u001b[39m\n\u001b[0;32m    780\u001b[0m         )\n",
      "\u001b[1;31mKeyError\u001b[0m: 'llm_chain'"
     ]
    }
   ],
   "source": [
    "# duchduckgo search\n",
    "\n",
    "from langchain_community.tools import DuckDuckGoSearchRun\n",
    "from langchain.agents import initialize_agent, AgentType, AgentExecutor, ConversationalChatAgent\n",
    "from langchain.memory import ConversationBufferMemory # to store the conversation history\n",
    "from langchain_unify.chat_models import ChatUnify\n",
    "\n",
    "llm = ChatUnify(endpoint=\"gpt-4o@openai\",\n",
    "                unify_api_key=unifyapikey, streaming=True)\n",
    "\n",
    "\n",
    "ddg_search = DuckDuckGoSearchRun(name=\"ddg_search\")\n",
    "\n",
    "# tools = [ddg_search]\n",
    "memory = ConversationBufferMemory()\n",
    "\n",
    "\n",
    "\n",
    "agent = ConversationalChatAgent(\n",
    "    tools=[ddg_search],\n",
    "    # agent='chat-conversational-react-description',\n",
    "    agent_type=AgentType.ZERO_SHOT_REACT_DESCRIPTION,\n",
    "    llm=llm,\n",
    "    #memory=memory,\n",
    "    verbose=True,\n",
    "    max_iterations=3,\n",
    "    max_execution_time=10,\n",
    "    # return_intermediate_steps=True,\n",
    "    handle_parsing_errors=True,\n",
    "    early_stopping_method='generate',\n",
    ")\n",
    "\n",
    "\n",
    "#print(agent.invoke(\"whats the name of the president in united states?\",memory=memory))\n",
    "# print(agent.invoke(\"what is the capital\",memory=memory))\n",
    "\n",
    "# agent_executor = AgentExecutor(\n",
    "#     agent=agent,\n",
    "#     tools=[ddg_search],\n",
    "#     verbose=True,\n",
    "#     handle_parsing_errors=True,\n",
    "# )\n",
    "\n",
    "# print(agent_executor.invoke(\"what is the capital of france\"))\n",
    "\n",
    "\n",
    "# # Function to handle user input and agent response\n",
    "# def chat():\n",
    "#     print(\"You can start chatting with the agent. Type 'exit' to end the conversation.\")\n",
    "#     while True:\n",
    "#         user_input = input(\"You: \")\n",
    "#         if user_input.lower() == 'exit':\n",
    "#             print(\"Ending the conversation. Goodbye!\")\n",
    "#             break\n",
    "#         try:\n",
    "#             response = agent.invoke(user_input,memory=memory)\n",
    "#             print(f\"Agent: {response}\")\n",
    "#         except Exception as e:\n",
    "#             print(f\"An error occurred: {e}\")\n",
    "\n",
    "# # Start the chat session\n",
    "# chat()"
   ]
  },
  {
   "cell_type": "code",
   "execution_count": 20,
   "metadata": {},
   "outputs": [
    {
     "ename": "NameError",
     "evalue": "name 'DuckDuckGoSearchRun' is not defined",
     "output_type": "error",
     "traceback": [
      "\u001b[1;31m---------------------------------------------------------------------------\u001b[0m",
      "\u001b[1;31mNameError\u001b[0m                                 Traceback (most recent call last)",
      "Cell \u001b[1;32mIn[20], line 6\u001b[0m\n\u001b[0;32m      3\u001b[0m \u001b[38;5;28;01mfrom\u001b[39;00m \u001b[38;5;21;01mlangchain\u001b[39;00m\u001b[38;5;21;01m.\u001b[39;00m\u001b[38;5;21;01magents\u001b[39;00m \u001b[38;5;28;01mimport\u001b[39;00m AgentExecutor, ConversationalChatAgent\n\u001b[0;32m      5\u001b[0m llm \u001b[38;5;241m=\u001b[39m ChatUnify(endpoint\u001b[38;5;241m=\u001b[39m\u001b[38;5;124m\"\u001b[39m\u001b[38;5;124mgpt-4o@openai\u001b[39m\u001b[38;5;124m\"\u001b[39m,unify_api_key\u001b[38;5;241m=\u001b[39munifyapikey)\n\u001b[1;32m----> 6\u001b[0m tools \u001b[38;5;241m=\u001b[39m [\u001b[43mDuckDuckGoSearchRun\u001b[49m(name\u001b[38;5;241m=\u001b[39m\u001b[38;5;124m\"\u001b[39m\u001b[38;5;124mSearch\u001b[39m\u001b[38;5;124m\"\u001b[39m)]\n\u001b[0;32m      7\u001b[0m chat_agent \u001b[38;5;241m=\u001b[39m ConversationalChatAgent\u001b[38;5;241m.\u001b[39mfrom_llm_and_tools(llm\u001b[38;5;241m=\u001b[39mllm, tools\u001b[38;5;241m=\u001b[39mtools)\n\u001b[0;32m      9\u001b[0m memory \u001b[38;5;241m=\u001b[39m ConversationBufferMemory(\n\u001b[0;32m     10\u001b[0m      return_messages\u001b[38;5;241m=\u001b[39m\u001b[38;5;28;01mTrue\u001b[39;00m, memory_key\u001b[38;5;241m=\u001b[39m\u001b[38;5;124m\"\u001b[39m\u001b[38;5;124mchat_history\u001b[39m\u001b[38;5;124m\"\u001b[39m, output_key\u001b[38;5;241m=\u001b[39m\u001b[38;5;124m\"\u001b[39m\u001b[38;5;124moutput\u001b[39m\u001b[38;5;124m\"\u001b[39m\n\u001b[0;32m     11\u001b[0m )\n",
      "\u001b[1;31mNameError\u001b[0m: name 'DuckDuckGoSearchRun' is not defined"
     ]
    }
   ],
   "source": [
    "# best working duckduckgo search\n",
    "from langchain.memory import ConversationBufferMemory\n",
    "from langchain.agents import AgentExecutor, ConversationalChatAgent\n",
    "\n",
    "llm = ChatUnify(endpoint=\"gpt-4o@openai\",unify_api_key=unifyapikey)\n",
    "tools = [DuckDuckGoSearchRun(name=\"Search\")]\n",
    "chat_agent = ConversationalChatAgent.from_llm_and_tools(llm=llm, tools=tools)\n",
    "\n",
    "memory = ConversationBufferMemory(\n",
    "     return_messages=True, memory_key=\"chat_history\", output_key=\"output\"\n",
    ")\n",
    "executor = AgentExecutor.from_agent_and_tools(\n",
    "        agent=chat_agent,\n",
    "        tools=tools,\n",
    "        verbose=True,\n",
    "        memory=memory,\n",
    "        #return_intermediate_steps=True,\n",
    "        handle_parsing_errors=True,\n",
    ")\n",
    "\n",
    "executor.invoke({\"input\":\"what is the capital of france\"})\n"
   ]
  },
  {
   "cell_type": "code",
   "execution_count": null,
   "metadata": {},
   "outputs": [],
   "source": [
    "executor.invoke({\"input\":\"who is the president\"})"
   ]
  },
  {
   "cell_type": "code",
   "execution_count": null,
   "metadata": {},
   "outputs": [],
   "source": [
    "executor.invoke({\"input\":\"what are famous tourist spot\"})"
   ]
  },
  {
   "cell_type": "code",
   "execution_count": null,
   "metadata": {},
   "outputs": [],
   "source": [
    "executor.invoke({\"input\":\"what language they will speak\"})   "
   ]
  },
  {
   "cell_type": "code",
   "execution_count": null,
   "metadata": {},
   "outputs": [],
   "source": [
    "# duchduckgo search\n",
    "\n",
    "from langchain_community.tools import DuckDuckGoSearchRun\n",
    "from langchain.agents import initialize_agent, AgentType\n",
    "from langchain.memory import ConversationBufferWindowMemory\n",
    "from langchain_unify.chat_models import ChatUnify\n",
    "\n",
    "llm = ChatUnify(endpoint=\"llama-2-13b-chat@anyscale\",\n",
    "                unify_api_key=unifyapikey, streaming=True)\n",
    "\n",
    "\n",
    "ddg_search = DuckDuckGoSearchRun(name=\"ddg_search\")\n",
    "\n",
    "# tools = [ddg_search]\n",
    "memory = ConversationBufferWindowMemory()\n",
    "\n",
    "agent = initialize_agent(\n",
    "    tools=[ddg_search],\n",
    "    # agent='chat-conversational-react-description',\n",
    "    agent_type=AgentType.ZERO_SHOT_REACT_DESCRIPTION,\n",
    "    llm=llm,\n",
    "    memory=memory,\n",
    "    verbose=True,\n",
    "    max_iterations=3,\n",
    "    max_execution_time=10,\n",
    "    # return_intermediate_steps=True,\n",
    "    handle_parsing_errors=True,\n",
    "    early_stopping_method='generate',\n",
    ")\n",
    "\n",
    "\n",
    "# print(agent.invoke(\"whats the name of the president in united states?\"))\n",
    "\n",
    "\n",
    "\n",
    "# Function to handle user input and agent response\n",
    "def chat():\n",
    "    print(\"You can start chatting with the agent. Type 'exit' to end the conversation.\")\n",
    "    while True:\n",
    "        user_input = input(\"You: \")\n",
    "        if user_input.lower() == 'exit':\n",
    "            print(\"Ending the conversation. Goodbye!\")\n",
    "            break\n",
    "        try:\n",
    "            response = agent.invoke(user_input,memory=memory)\n",
    "            print(f\"Agent: {response}\")\n",
    "        except Exception as e:\n",
    "            print(f\"An error occurred: {e}\")\n",
    "\n",
    "# Start the chat session\n",
    "chat()"
   ]
  },
  {
   "cell_type": "code",
   "execution_count": null,
   "metadata": {},
   "outputs": [],
   "source": [
    "# openweathermap-api\n",
    "\n",
    "from langchain.agents import AgentType, initialize_agent, load_tools\n",
    "from langchain_unify.chat_models import ChatUnify\n",
    "import os\n",
    "\n",
    "os.environ[\"OPENWEATHERMAP_API_KEY\"] = opwapikey\n",
    "\n",
    "llm = ChatUnify(endpoint=\"gpt-4-turbo@openai\", unify_api_key=unifyapikey, streaming=True)\n",
    "\n",
    "\n",
    "tools = load_tools([\"openweathermap-api\"],llm)\n",
    "\n",
    "agent = initialize_agent(\n",
    "    tools=tools, \n",
    "    llm=llm, \n",
    "    agent=AgentType.ZERO_SHOT_REACT_DESCRIPTION, \n",
    "    verbose=True,\n",
    "    max_iterations=3,\n",
    "    max_execution_time=60,\n",
    "    return_intermediate_steps=True,\n",
    "    handle_parsing_errors=True,\n",
    "    early_stopping_method='generate'\n",
    ")\n",
    "\n",
    "#print(tools)\n",
    "print(agent.invoke(\"Whats the current weather in chennai?\"))\n"
   ]
  },
  {
   "cell_type": "code",
   "execution_count": null,
   "metadata": {},
   "outputs": [],
   "source": [
    "from langchain.agents import load_tools\n",
    "import os\n",
    "\n",
    "os.environ[\"OPENWEATHERMAP_API_KEY\"] = opwapikey\n",
    "\n",
    "\n",
    "llm = ChatUnify(endpoint=\"gpt-4o@openai\",unify_api_key=unifyapikey)\n",
    "tools = load_tools([\"openweathermap-api\"],llm)\n",
    "chat_agent = ConversationalChatAgent.from_llm_and_tools(llm=llm, tools=tools)\n",
    "\n",
    "memory = ConversationBufferMemory(\n",
    "     return_messages=True, memory_key=\"chat_history\", output_key=\"output\"\n",
    ")\n",
    "executor = AgentExecutor.from_agent_and_tools(\n",
    "        agent=chat_agent,\n",
    "        tools=tools,\n",
    "        verbose=True,\n",
    "        memory=memory,\n",
    "        #return_intermediate_steps=True,\n",
    "        handle_parsing_errors=True,\n",
    ")\n",
    "\n",
    "executor.invoke({\"input\":\"what is the weather for next couple of days in london\"})"
   ]
  },
  {
   "cell_type": "code",
   "execution_count": null,
   "metadata": {},
   "outputs": [],
   "source": [
    "\n",
    "executor.invoke({\"input\":\"is it rainy tommorrow\"})"
   ]
  },
  {
   "cell_type": "code",
   "execution_count": null,
   "metadata": {},
   "outputs": [],
   "source": [
    "executor.invoke({\"input\":\"when is the next rainny day with exact date\"})"
   ]
  },
  {
   "cell_type": "code",
   "execution_count": 8,
   "metadata": {},
   "outputs": [
    {
     "name": "stdout",
     "output_type": "stream",
     "text": [
      "{'input': 'What is the distance diameter of earth?', 'chat_history': [HumanMessage(content='What is the equation for gravity?'), AIMessage(content=\"The equation for gravity is approximately 9.82 m/s^2, or 32.22 ft/s^2, or 982 cm/s^2. The escape velocity from the Earth's surface is around 11.19 km/s, or 11190 m/s, or 25020 mph.\"), HumanMessage(content='What is the distance diameter of earth?'), AIMessage(content='The average diameter of Earth is approximately 7,917.523 miles.'), HumanMessage(content='What is the distance diameter of earth?'), AIMessage(content='The average diameter of the Earth is approximately 7,917.523 miles.')], 'output': 'The average diameter of the Earth is approximately 7,917.523 miles.'}\n"
     ]
    }
   ],
   "source": [
    "#from langchain_community.utilities.wolfram_alpha import WolframAlphaAPIWrapper\n",
    "from langchain.agents import ConversationalChatAgent, AgentExecutor, load_tools\n",
    "from langchain_unify.chat_models import ChatUnify\n",
    "import os\n",
    "\n",
    "llm = ChatUnify(endpoint=\"llama-2-13b-chat@anyscale\", unify_api_key=unifyapikey, streaming=True)\n",
    "\n",
    "os.environ[\"WOLFRAM_ALPHA_APPID\"] = wolframapikey\n",
    "\n",
    "tools_name = [\"wolfram-alpha\"]\n",
    "tools = load_tools(tools_name)\n",
    "chat_agent = ConversationalChatAgent.from_llm_and_tools(llm=llm, tools=tools)\n",
    "executor = AgentExecutor.from_agent_and_tools(\n",
    "        agent=chat_agent,\n",
    "        tools=tools,\n",
    "        memory=memory,\n",
    "        #return_intermediate_steps=True,\n",
    "        handle_parsing_errors=True,\n",
    ")\n",
    "\n",
    "# agent = initialize_agent(\n",
    "#      tools=tools,\n",
    "#      agent= \"zero-shot-react-description\",\n",
    "#      llm=llm,\n",
    "#      verbose=True,\n",
    "#      max_iterations=3,\n",
    "#      max_execution_time=60,\n",
    "#      return_intermediate_steps=True,\n",
    "#      handle_parsing_errors=True,\n",
    "#      early_stopping_method='generate',\n",
    "\n",
    "#  )\n",
    "\n",
    "print(executor.invoke({\"input\":\"What is the distance diameter of earth?\"}))"
   ]
  },
  {
   "cell_type": "code",
   "execution_count": 9,
   "metadata": {},
   "outputs": [
    {
     "name": "stdout",
     "output_type": "stream",
     "text": [
      "{'input': 'can you tell me in km', 'chat_history': [HumanMessage(content='What is the equation for gravity?'), AIMessage(content=\"The equation for gravity is approximately 9.82 m/s^2, or 32.22 ft/s^2, or 982 cm/s^2. The escape velocity from the Earth's surface is around 11.19 km/s, or 11190 m/s, or 25020 mph.\"), HumanMessage(content='What is the distance diameter of earth?'), AIMessage(content='The average diameter of Earth is approximately 7,917.523 miles.'), HumanMessage(content='What is the distance diameter of earth?'), AIMessage(content='The average diameter of the Earth is approximately 7,917.523 miles.'), HumanMessage(content='can you tell me in km'), AIMessage(content='The average diameter of the Earth is approximately 12,742.018 kilometers.')], 'output': 'The average diameter of the Earth is approximately 12,742.018 kilometers.'}\n"
     ]
    }
   ],
   "source": [
    "print(executor.invoke({\"input\":\"can you tell me in km\"}))"
   ]
  },
  {
   "cell_type": "code",
   "execution_count": 10,
   "metadata": {},
   "outputs": [
    {
     "name": "stdout",
     "output_type": "stream",
     "text": [
      "{'input': '5+2+6*8-34', 'chat_history': [HumanMessage(content='What is the equation for gravity?'), AIMessage(content=\"The equation for gravity is approximately 9.82 m/s^2, or 32.22 ft/s^2, or 982 cm/s^2. The escape velocity from the Earth's surface is around 11.19 km/s, or 11190 m/s, or 25020 mph.\"), HumanMessage(content='What is the distance diameter of earth?'), AIMessage(content='The average diameter of Earth is approximately 7,917.523 miles.'), HumanMessage(content='What is the distance diameter of earth?'), AIMessage(content='The average diameter of the Earth is approximately 7,917.523 miles.'), HumanMessage(content='can you tell me in km'), AIMessage(content='The average diameter of the Earth is approximately 12,742.018 kilometers.'), HumanMessage(content='5+2+6*8-34'), AIMessage(content='Agent stopped due to iteration limit or time limit.')], 'output': 'Agent stopped due to iteration limit or time limit.'}\n"
     ]
    }
   ],
   "source": [
    "print(executor.invoke({\"input\":\"5+2+6*8-34\"}))"
   ]
  },
  {
   "cell_type": "code",
   "execution_count": null,
   "metadata": {},
   "outputs": [],
   "source": [
    "# !pip install -q youtube-transcript-api\n",
    "# !pip install -q pytube"
   ]
  },
  {
   "cell_type": "code",
   "execution_count": null,
   "metadata": {},
   "outputs": [],
   "source": [
    "#no need to install that \n",
    "#!pip install -q yt-dlp youtube-dl pafy"
   ]
  },
  {
   "cell_type": "code",
   "execution_count": 49,
   "metadata": {},
   "outputs": [
    {
     "name": "stdout",
     "output_type": "stream",
     "text": [
      "['https://www.youtube.com/watch?v=GkePsetNqPs&pp=ygUXaG93IHRvIG1ha2UgYSBjaGFwcGFhdGk%3D', 'https://www.youtube.com/watch?v=RHzRwUuf4Zk&pp=ygUXaG93IHRvIG1ha2UgYSBjaGFwcGFhdGk%3D']\n",
      "<class 'list'>\n"
     ]
    }
   ],
   "source": [
    "from langchain_community.tools import YouTubeSearchTool\n",
    "from IPython.display import YouTubeVideo\n",
    "import ast\n",
    "\n",
    "tool = YouTubeSearchTool()\n",
    "\n",
    "ytvideo = tool.run(\"how to make a chappaati\")\n",
    "ytvideo_list = ast.literal_eval(ytvideo)\n",
    "print(ytvideo_list)\n",
    "print(type(ytvideo_list))"
   ]
  },
  {
   "cell_type": "code",
   "execution_count": 99,
   "metadata": {},
   "outputs": [],
   "source": [
    "class YouTubeSearch:\n",
    "    def __init__(self):\n",
    "        self.api = YouTubeSearchTool()\n",
    "\n",
    "    def run(self, query):\n",
    "        results = self.api.run(f\"{query},3\")\n",
    "        print(results)\n",
    "        list_results = ast.literal_eval(results)\n",
    "        return list_results"
   ]
  },
  {
   "cell_type": "code",
   "execution_count": 100,
   "metadata": {},
   "outputs": [
    {
     "name": "stdout",
     "output_type": "stream",
     "text": [
      "['https://www.youtube.com/watch?v=0FTO2xtmoZQ&pp=ygUaaG93IHRvIG1ha2UgYSBwYXBlciByb2NrZXQ%3D', 'https://www.youtube.com/watch?v=KQYwYU_P1aM&pp=ygUaaG93IHRvIG1ha2UgYSBwYXBlciByb2NrZXQ%3D', 'https://www.youtube.com/watch?v=veyZNyurlwU&pp=ygUaaG93IHRvIG1ha2UgYSBwYXBlciByb2NrZXQ%3D']\n",
      "['https://www.youtube.com/watch?v=0FTO2xtmoZQ&pp=ygUaaG93IHRvIG1ha2UgYSBwYXBlciByb2NrZXQ%3D', 'https://www.youtube.com/watch?v=KQYwYU_P1aM&pp=ygUaaG93IHRvIG1ha2UgYSBwYXBlciByb2NrZXQ%3D', 'https://www.youtube.com/watch?v=veyZNyurlwU&pp=ygUaaG93IHRvIG1ha2UgYSBwYXBlciByb2NrZXQ%3D']\n"
     ]
    }
   ],
   "source": [
    "yt=YouTubeSearch()\n",
    "yt_result=yt.run(\"how to make a paper rocket\")\n",
    "\n",
    "print(yt_result)"
   ]
  },
  {
   "cell_type": "code",
   "execution_count": 88,
   "metadata": {},
   "outputs": [
    {
     "data": {
      "image/jpeg": "[encoded data removed]",
      "text/html": [
       "\n",
       "        <iframe\n",
       "            width=\"560\"\n",
       "            height=\"315\"\n",
       "            src=\"https://www.youtube.com/embed/GkePsetNqPs\"\n",
       "            frameborder=\"0\"\n",
       "            allowfullscreen\n",
       "            \n",
       "        ></iframe>\n",
       "        "
      ],
      "text/plain": [
       "<IPython.lib.display.YouTubeVideo at 0x26ccf40a500>"
      ]
     },
     "metadata": {},
     "output_type": "display_data"
    },
    {
     "data": {
      "image/jpeg": "[encoded data removed]",
      "text/html": [
       "\n",
       "        <iframe\n",
       "            width=\"560\"\n",
       "            height=\"315\"\n",
       "            src=\"https://www.youtube.com/embed/RHzRwUuf4Zk\"\n",
       "            frameborder=\"0\"\n",
       "            allowfullscreen\n",
       "            \n",
       "        ></iframe>\n",
       "        "
      ],
      "text/plain": [
       "<IPython.lib.display.YouTubeVideo at 0x26ccf40a800>"
      ]
     },
     "metadata": {},
     "output_type": "display_data"
    },
    {
     "name": "stdout",
     "output_type": "stream",
     "text": [
      "No video found for the URL: https://www.youtube.com/watch?v=L0fRM0feSgM&pp=ygUWaG93IHRvIG1ha2UgYSBjaGFwcGF0aQ%3D%3D\n"
     ]
    }
   ],
   "source": [
    "import ast\n",
    "from langchain.document_loaders import YoutubeLoader\n",
    "from IPython.display import display\n",
    "\n",
    "\n",
    "class YouTubeVideoSearcher:\n",
    "    def __init__(self):\n",
    "        pass\n",
    "\n",
    "    def search_and_display_videos(self, query, num_videos=3):\n",
    "        api = YouTubeSearchTool()\n",
    "        results = api.run(f\"{query},{num_videos}\")\n",
    "        list_results = ast.literal_eval(results)\n",
    "        if list_results:\n",
    "            for url in list_results:\n",
    "                loader = YoutubeLoader.from_youtube_url(url, add_video_info=True)\n",
    "                result = loader.load()\n",
    "                if result:\n",
    "                    video = YouTubeVideo(id=result[0].metadata[\"source\"], width=560, height=315)\n",
    "                    display(video)\n",
    "                else:\n",
    "                    print(f\"No video found for the URL: {url}\")\n",
    "        else:\n",
    "            print(\"No thumbnail found for the provided query.\")\n",
    "\n",
    "# Example usage:\n",
    "youtube_searcher = YouTubeVideoSearcher()\n",
    "youtube_searcher.search_and_display_videos(\"how to make a chappati\")\n"
   ]
  },
  {
   "cell_type": "code",
   "execution_count": null,
   "metadata": {},
   "outputs": [],
   "source": [
    "\n",
    "import requests\n",
    "from IPython.display import Image\n",
    "class YouTubeVideoSearcher:\n",
    "    def __init__(self):\n",
    "        pass\n",
    "\n",
    "    def display_thumbnail(self, url):\n",
    "        loader = YoutubeLoader.from_youtube_url(url, add_video_info=True)\n",
    "        result = loader.load()\n",
    "        if result:\n",
    "            thumbnail_url = result[0].metadata.get(\"thumbnail_url\")\n",
    "            if thumbnail_url:\n",
    "                response = requests.get(thumbnail_url)\n",
    "                if response.status_code == 200:\n",
    "                    display(Image(response.content))\n",
    "                else:\n",
    "                    print(f\"Failed to fetch thumbnail for the URL: {url}\")\n",
    "            else:\n",
    "                print(f\"No thumbnail found for the URL: {url}\")\n",
    "        else:\n",
    "            print(f\"No video found for the URL: {url}\")\n",
    "\n",
    "    # def search_and_display_videos(self, query, num_videos=3):\n",
    "    #     api = YouTubeSearchTool()\n",
    "    #     results = api.run(f\"{query},{num_videos}\")\n",
    "    #     list_results = ast.literal_eval(results)\n",
    "    #     if list_results:\n",
    "    #         for url in list_results:\n",
    "    #             self.display_thumbnail(url)\n",
    "    #             self.display_video(url)\n",
    "    #     else:\n",
    "    #         print(\"No videos found for the provided query.\")\n",
    "\n",
    "    # def display_video(self, url):\n",
    "    #     loader = YoutubeLoader.from_youtube_url(url, add_video_info=True)\n",
    "    #     result = loader.load()\n",
    "    #     if result:\n",
    "    #         video = YouTubeVideo(id=result[0].metadata[\"source\"], width=560, height=315)\n",
    "    #         display(video)\n",
    "    #     else:\n",
    "    #         print(f\"No video found for the URL: {url}\")\n",
    "\n",
    "# Example usage:\n",
    "youtube_searcher = YouTubeVideoSearcher()\n",
    "youtube_searcher.search_and_display_videos(\"chapati\")\n"
   ]
  },
  {
   "cell_type": "code",
   "execution_count": 109,
   "metadata": {},
   "outputs": [
    {
     "name": "stdout",
     "output_type": "stream",
     "text": [
      "['https://www.youtube.com/watch?v=ddTV12hErTc&pp=ygUFbWtiaGQ%3D', 'https://www.youtube.com/watch?v=b0I54yxpFjA&pp=ygUFbWtiaGQ%3D', 'https://www.youtube.com/watch?v=mGxIAwybD5A&pp=ygUFbWtiaGQ%3D']\n",
      "Rabbit R1: Barely Reviewable https://i.ytimg.com/vi/ddTV12hErTc/hq720.jpg\n",
      "Microsoft’s MacBook Killer? https://i.ytimg.com/vi/b0I54yxpFjA/hq720.jpg\n",
      "Mercedes AMG EQE SUV: Ugly but Comfortable! https://i.ytimg.com/vi/mGxIAwybD5A/hq720.jpg\n"
     ]
    }
   ],
   "source": [
    "results = YouTubeSearchTool().run(\"mkbhd,3\")\n",
    "#print(results)\n",
    "list_results = ast.literal_eval(results)\n",
    "\n",
    "for url in list_results:\n",
    "    loader = YoutubeLoader.from_youtube_url(url, add_video_info=True)\n",
    "    result = loader.load()\n",
    "    if result:\n",
    "        thumbnail_url = result[0].metadata.get(\"thumbnail_url\")\n",
    "        title = result[0].metadata.get(\"title\")\n",
    "        print(title, thumbnail_url)\n",
    "    else:\n",
    "        print(f\"No video found for the URL: {url}\")\n",
    "        \n",
    "# loader = YoutubeLoader.from_youtube_url(results[0], add_video_info=True)\n",
    "# result = loader.load()\n",
    "# #print(result)\n",
    "# thumbnail_url = result[0].metadata.get(\"thumbnail_url\")\n",
    "# title = result[0].metadata.get(\"title\")\n",
    "# print(title)\n",
    "# #{\"output\":thumbnail_url}\n",
    "# print(thumbnail_url)\n",
    "\n"
   ]
  },
  {
   "cell_type": "code",
   "execution_count": null,
   "metadata": {},
   "outputs": [],
   "source": [
    "from langchain_unify.chat_models import ChatUnify\n",
    "from langchain.document_loaders import YoutubeLoader\n",
    "from langchain.chains.summarize import load_summarize_chain\n",
    "from langchain.prompts import PromptTemplate\n",
    "from IPython.display import YouTubeVideo\n",
    "from datetime import timedelta\n",
    "\n",
    "url = 'https://www.youtube.com/watch?v=RHzRwUuf4Zk&pp=ygUXaG93IHRvIG1ha2UgYSBjaGFwcGFhdGk%3D'\n",
    "\n",
    "\n",
    "loader = YoutubeLoader.from_youtube_url(url, add_video_info=True)\n",
    "\n",
    "result = loader.load()\n",
    "#print(result)\n",
    "\n",
    "llm = ChatUnify(endpoint=\"gpt-4o@openai\", unify_api_key=unifyapikey, streaming=True)\n",
    "\n",
    "\n",
    "prompt_template = \"\"\"Write a concise summary of the following text delimited by triple backquotes.\n",
    "              Return your response in bullet points which covers the key points of the text.\n",
    "              ```{text}```\n",
    "              BULLET POINT SUMMARY:\n",
    "  \"\"\"\n",
    "\n",
    "prompt = PromptTemplate(template=prompt_template, input_variables=[\"text\"])\n",
    "\n",
    "chain = load_summarize_chain(llm,chain_type=\"stuff\",prompt=prompt)\n",
    "summary = chain.invoke(result)\n",
    "\n",
    "# Convert seconds to timedelta\n",
    "video_length = timedelta(seconds = result[0].metadata['length'])\n",
    "\n",
    "print (f\"Found video from {result[0].metadata['author']} that {video_length} is long \")\n",
    "print (\"\")\n",
    "\n",
    "# print(\"Content :\")\n",
    "# print(result[0].page_content)\n",
    "content = result[0].page_content\n",
    "print(\"\")\n",
    "print(\"Summarized Content :\")\n",
    "print(summary['output_text'])\n",
    "\n",
    "# thumbnail_url = result[0].metadata[\"thumbnail_url\"] #thumbnail_url for the video\n",
    "video = YouTubeVideo(id = result[0].metadata[\"source\"],width=560, height=315)\n",
    "display(video)"
   ]
  },
  {
   "cell_type": "code",
   "execution_count": 44,
   "metadata": {},
   "outputs": [
    {
     "name": "stdout",
     "output_type": "stream",
     "text": [
      "Found video from Phil's Kitchen that 0:08:15 is long \n",
      "Here is a concise summary of the text in bullet points:\n",
      "\n",
      "**Introduction**\n",
      "\n",
      "* The video is about making chapatis at home\n",
      "* The recipe is easy and quick, requiring minimal ingredients\n",
      "* The video is suitable for beginners\n",
      "\n",
      "**Ingredients and Tools**\n",
      "\n",
      "* All-purpose flour\n",
      "* Salt\n",
      "* Warm water\n",
      "* Vegetable oil\n",
      "* Rolling pin\n",
      "* Kitchen towel\n",
      "* Spatula\n",
      "* Pan\n",
      "\n",
      "**Step-by-Step Instructions**\n",
      "\n",
      "* Mix flour and salt, then add warm water to form a sticky dough\n",
      "* Knead the dough for 5-8 minutes until it becomes soft and sticky\n",
      "* Add a tablespoon of vegetable oil and continue kneading for 3 minutes\n",
      "* Rest the dough for 10 minutes, then divide it into small balls\n",
      "* Roll each ball into an oval shape, then spread a small amount of oil on one side\n",
      "* Roll the dough into a coil shape, then flatten it into a round shape\n",
      "* Repeat the process with the remaining dough balls\n",
      "* Cook the chapatis on a medium-heat pan with a small amount of oil, flipping each side until golden brown\n",
      "\n",
      "**Cooking Tips**\n",
      "\n",
      "* The level of heat is important, as high or low heat can result in hard or crispy chapati\n",
      "* Cook each side for about a minute until golden brown\n",
      "\n",
      "**Conclusion**\n",
      "\n",
      "* The chapatis are ready to serve with a variety of dishes, such as meat stews, soup, or tea\n",
      "* The method is easy and quick, and the video is suitable for beginners.\n"
     ]
    }
   ],
   "source": [
    "class VideoSummarizer:\n",
    "    def __init__(self, url, unify_api_key, llm_selected, provider_selected):\n",
    "        self.url = url\n",
    "        self.unify_api_key = unify_api_key\n",
    "        self.llm_selected = llm_selected\n",
    "        self.provider_selected = provider_selected\n",
    "\n",
    "    def summarize_video(self):\n",
    "        loader = YoutubeLoader.from_youtube_url(self.url, add_video_info=True)\n",
    "        result = loader.load()\n",
    "\n",
    "        llm = ChatUnify(endpoint=f\"{self.llm_selected}@{self.provider_selected}\", unify_api_key=self.unify_api_key, streaming=True)\n",
    "\n",
    "        prompt_template = \"\"\"Write a concise summary of the following text delimited by triple backquotes.\n",
    "                          Return your response in bullet points which covers the key points of the text.\n",
    "                          ```{text}```\n",
    "                          BULLET POINT SUMMARY:\n",
    "                          \"\"\"\n",
    "        prompt = PromptTemplate(template=prompt_template, input_variables=[\"text\"])\n",
    "\n",
    "        chain = load_summarize_chain(llm, chain_type=\"stuff\", prompt=prompt)\n",
    "        summary = chain.invoke(result)\n",
    "        summarized_content = summary['output_text']\n",
    "        \n",
    "        #video length\n",
    "        video_length = timedelta(seconds=result[0].metadata['length'])\n",
    "        vid_len=f\"Found video from {result[0].metadata['author']} that {video_length} is long \"\n",
    "        print(vid_len)\n",
    "        print (summarized_content)\n",
    "        \n",
    "    \n",
    "    # def display_video(self):\n",
    "    #     loader = YoutubeLoader.from_youtube_url(self.url, add_video_info=True)\n",
    "    #     result = loader.load()\n",
    "    #     #thumbnail_url = result[0].metadata[\"thumbnail_url\"]\n",
    "    #     video = YouTubeVideo(id=result[0].metadata[\"source\"], width=560, height=315)\n",
    "    #     return display(video)\n",
    "\n",
    "# Example usage:\n",
    "url = 'https://www.youtube.com/watch?v=RHzRwUuf4Zk&pp=ygUXaG93IHRvIG1ha2UgYSBjaGFwcGFhdGk%3D'\n",
    "api_key = \"jOIetrH1GL2QWUj5iZO5XVC6gR+VXm9pnYZE7y7ALNU=\"\n",
    "llm_selected = \"gpt-4o\"\n",
    "provider_selected = \"openai\"\n",
    "\n",
    "summarizer = VideoSummarizer(url, api_key, llm_selected, provider_selected)\n",
    "#summarizer.summarize_video()\n",
    "#summarizer.display_video()\n"
   ]
  },
  {
   "cell_type": "code",
   "execution_count": null,
   "metadata": {},
   "outputs": [],
   "source": [
    "xxx=(chain.invoke(result))\n",
    "print(len(chain.invoke(result)))\n"
   ]
  },
  {
   "cell_type": "code",
   "execution_count": null,
   "metadata": {},
   "outputs": [],
   "source": [
    "print(xxx['output_text'])"
   ]
  },
  {
   "cell_type": "code",
   "execution_count": null,
   "metadata": {},
   "outputs": [],
   "source": [
    "# from langchain_community.tools import DuckDuckGoSearchRun\n",
    "\n",
    "# search= DuckDuckGoSearchRun()\n",
    "\n",
    "# prompt = \"what is temperature\"\n",
    "\n",
    "# print(\"searching for response....\")\n",
    "# se= search.run(prompt)\n",
    "# print(se)\n",
    "# %time\n",
    "\n",
    "# print(\"generating response....\")\n",
    "# response = unify.generate(user_prompt= search.run(prompt),system_prompt=\"You should always summaraise for user easy understanding\")\n",
    "# print(response)\n",
    "# %time"
   ]
  },
  {
   "cell_type": "code",
   "execution_count": null,
   "metadata": {},
   "outputs": [],
   "source": []
  },
  {
   "cell_type": "code",
   "execution_count": null,
   "metadata": {},
   "outputs": [],
   "source": [
    "#open waether map\n",
    "\n",
    "from langchain_community.utilities import OpenWeatherMapAPIWrapper\n",
    "import os\n",
    "\n",
    "os.environ[\"OPENWEATHERMAP_API_KEY\"] = opwapikey\n",
    "weather = OpenWeatherMapAPIWrapper(openweathermap_api_key=opwapikey)\n",
    "\n",
    "weather_prompt = (\"london\")"
   ]
  },
  {
   "cell_type": "code",
   "execution_count": null,
   "metadata": {},
   "outputs": [],
   "source": [
    "print(weather.run(weather_prompt))\n"
   ]
  },
  {
   "cell_type": "code",
   "execution_count": null,
   "metadata": {},
   "outputs": [],
   "source": [
    "# # wolfram alpha\n",
    "\n",
    "# from langchain_community.utilities.wolfram_alpha import WolframAlphaAPIWrapper\n",
    "# import os\n",
    "\n",
    "# os.environ[\"WOLFRAM_ALPHA_APPID\"] = \"ETGVRAJ5\"\n",
    "# wolfram = WolframAlphaAPIWrapper()\n",
    "# wolfram.run(\"What is 2x+5 = -3x + 7?\")\n"
   ]
  },
  {
   "cell_type": "code",
   "execution_count": null,
   "metadata": {},
   "outputs": [],
   "source": [
    "from langchain_unify.chat_models import ChatUnify\n",
    "\n",
    "llm = ChatUnify(endpoint=\"gpt-3.5-turbo@openai\", unify_api_key=\"jOIetrH1GL2QWUj5iZ7y7ALNU=\", streaming=True)\n",
    "# llm.invoke(\"hello\")"
   ]
  }
 ],
 "metadata": {
  "kernelspec": {
   "display_name": "ai_agent_venv",
   "language": "python",
   "name": "python3"
  },
  "language_info": {
   "codemirror_mode": {
    "name": "ipython",
    "version": 3
   },
   "file_extension": ".py",
   "mimetype": "text/x-python",
   "name": "python",
   "nbconvert_exporter": "python",
   "pygments_lexer": "ipython3",
   "version": "3.10.9"
  }
 },
 "nbformat": 4,
 "nbformat_minor": 2
}
